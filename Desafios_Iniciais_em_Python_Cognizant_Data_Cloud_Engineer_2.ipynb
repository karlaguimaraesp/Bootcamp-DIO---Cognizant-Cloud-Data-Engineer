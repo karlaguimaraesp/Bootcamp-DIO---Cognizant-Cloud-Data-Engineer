{
  "nbformat": 4,
  "nbformat_minor": 0,
  "metadata": {
    "colab": {
      "name": "Desafios Iniciais em Python - Cognizant Data Cloud Engineer #2.ipynb",
      "provenance": [],
      "authorship_tag": "ABX9TyPDyDZmF+S6CvCMAQG6waWC",
      "include_colab_link": true
    },
    "kernelspec": {
      "name": "python3",
      "display_name": "Python 3"
    },
    "language_info": {
      "name": "python"
    }
  },
  "cells": [
    {
      "cell_type": "markdown",
      "metadata": {
        "id": "view-in-github",
        "colab_type": "text"
      },
      "source": [
        "<a href=\"https://colab.research.google.com/github/karlaguimaraesp/Bootcamp-DIO---Cognizant-Cloud-Data-Engineer/blob/main/Desafios_Iniciais_em_Python_Cognizant_Data_Cloud_Engineer_2.ipynb\" target=\"_parent\"><img src=\"https://colab.research.google.com/assets/colab-badge.svg\" alt=\"Open In Colab\"/></a>"
      ]
    },
    {
      "cell_type": "code",
      "execution_count": 10,
      "metadata": {
        "colab": {
          "base_uri": "https://localhost:8080/"
        },
        "id": "FnFPiTfAB9kU",
        "outputId": "33c6fadb-f07c-43f0-f5a9-a899de65bda6"
      },
      "outputs": [
        {
          "output_type": "stream",
          "name": "stdout",
          "text": [
            "2.5\n",
            "3.5\n",
            "MEDIA = 3.18182\n"
          ]
        }
      ],
      "source": [
        "a = float(input())\n",
        "\n",
        "\n",
        "b = float(input())\n",
        "\n",
        "\n",
        "#TODO: Complete os espaços em branco com as respectivas variáveis para o cálculo da média.\n",
        "media = (a * 3.5 + b * 7.5) / 11\n",
        "\n",
        "#TODO: Complete com a variável que representa o resultado da média.\n",
        "#print(%2.f'media = { : %.5f}')\n",
        "print(f'MEDIA = {media:.5f}')"
      ]
    }
  ]
}