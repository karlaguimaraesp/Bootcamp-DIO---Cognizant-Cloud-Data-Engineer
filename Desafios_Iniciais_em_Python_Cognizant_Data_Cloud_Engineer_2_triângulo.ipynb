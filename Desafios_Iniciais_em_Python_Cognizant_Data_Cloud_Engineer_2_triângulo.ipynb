{
  "nbformat": 4,
  "nbformat_minor": 0,
  "metadata": {
    "colab": {
      "name": "Desafios Iniciais em Python - Cognizant Data Cloud Engineer #2_triângulo.ipynb",
      "provenance": [],
      "authorship_tag": "ABX9TyPgL8o1mO8I0zfuqfAAPmD+",
      "include_colab_link": true
    },
    "kernelspec": {
      "name": "python3",
      "display_name": "Python 3"
    },
    "language_info": {
      "name": "python"
    }
  },
  "cells": [
    {
      "cell_type": "markdown",
      "metadata": {
        "id": "view-in-github",
        "colab_type": "text"
      },
      "source": [
        "<a href=\"https://colab.research.google.com/github/karlaguimaraesp/Bootcamp-DIO---Cognizant-Cloud-Data-Engineer/blob/main/Desafios_Iniciais_em_Python_Cognizant_Data_Cloud_Engineer_2_tri%C3%A2ngulo.ipynb\" target=\"_parent\"><img src=\"https://colab.research.google.com/assets/colab-badge.svg\" alt=\"Open In Colab\"/></a>"
      ]
    },
    {
      "cell_type": "markdown",
      "source": [
        "Leia 3 valores reais (A, B e C) e verifique se eles formam ou não um triângulo. Em caso positivo, calcule o perímetro do triângulo (soma de todos os lados) e apresente a mensagem:\n",
        "\n",
        "Perimetro = XX.X\n",
        "\n",
        "Em caso negativo, calcule a área do trapézio que tem A e B como base e C como altura, mostrando a mensagem:\n",
        "\n",
        "Area = XX.X\n",
        "\n",
        "Fórmula da área de um trapézio: AREA = ((A + B) x C) / 2\n",
        "\n",
        "Entrada\n",
        "A entrada contém três valores reais.\n",
        "\n",
        "Saída\n",
        "O resultado deve ser apresentado com uma casa decimal."
      ],
      "metadata": {
        "id": "7d3GNRLkE2gF"
      }
    },
    {
      "cell_type": "code",
      "source": [
        "a = float(input());\n",
        "b = float(input());\n",
        "c = float(input());\n",
        "\n",
        "if a + b > c and a + c > b and b + c > a:\n",
        "    #TODO Preencha a formula do perímeto do triangulo (soma de todos os lados).\n",
        "    print(\"Perimetro = {:.1f}\".format(a + b + c))\n",
        "else:\n",
        "    #TODO Preencha a formula da área do trapézio: AREA = ((A + B) x C) / 2\n",
        "    print(\"Area = {:.1f}\".format(((a + b) * c) / 2))"
      ],
      "metadata": {
        "colab": {
          "base_uri": "https://localhost:8080/"
        },
        "id": "d5JmKBGwWCmm",
        "outputId": "39952476-eb34-4665-8c04-e7c62be4c3c6"
      },
      "execution_count": 35,
      "outputs": [
        {
          "output_type": "stream",
          "name": "stdout",
          "text": [
            "6.0\n",
            "4.0\n",
            "2.0\n",
            "Area = 10.0\n"
          ]
        }
      ]
    },
    {
      "cell_type": "code",
      "execution_count": 34,
      "metadata": {
        "colab": {
          "base_uri": "https://localhost:8080/"
        },
        "id": "BZ5jXpd0Ex_8",
        "outputId": "33a54360-baca-45b6-f4e6-fdb544c116bd"
      },
      "outputs": [
        {
          "output_type": "stream",
          "name": "stdout",
          "text": [
            "6.0\n",
            "4.0\n",
            "2.1\n",
            "Perimetro = 12.1\n"
          ]
        }
      ],
      "source": [
        "a = float(input());\n",
        "b = float(input());\n",
        "c = float(input());\n",
        "\n",
        "if a + b > c and a + c > b and b + c > a:\n",
        "    #TODO Preencha a formula do perímeto do triangulo (soma de todos os lados).\n",
        "    print(\"Perimetro = {:.1f}\".format(a + b + c))\n",
        "else:\n",
        "    #TODO Preencha a formula da área do trapézio: AREA = ((A + B) x C) / 2\n",
        "    print(\"Area = {:.1f}\".format(((a + b) * c) / 2))"
      ]
    }
  ]
}