{
  "nbformat": 4,
  "nbformat_minor": 0,
  "metadata": {
    "colab": {
      "name": "Desafios Iniciais em Python - Cognizant Data Cloud Engineer #2_ Conversão de Tempo.ipynb",
      "provenance": [],
      "authorship_tag": "ABX9TyN4ybLf7RQ5lRoJDyjQGe68",
      "include_colab_link": true
    },
    "kernelspec": {
      "name": "python3",
      "display_name": "Python 3"
    },
    "language_info": {
      "name": "python"
    }
  },
  "cells": [
    {
      "cell_type": "markdown",
      "metadata": {
        "id": "view-in-github",
        "colab_type": "text"
      },
      "source": [
        "<a href=\"https://colab.research.google.com/github/karlaguimaraesp/Bootcamp-DIO---Cognizant-Cloud-Data-Engineer/blob/main/Desafios_Iniciais_em_Python_Cognizant_Data_Cloud_Engineer_2__Convers%C3%A3o_de_Tempo.ipynb\" target=\"_parent\"><img src=\"https://colab.research.google.com/assets/colab-badge.svg\" alt=\"Open In Colab\"/></a>"
      ]
    },
    {
      "cell_type": "markdown",
      "source": [
        "Desafio\n",
        "\n",
        "Você terá o desafio de ler um valor inteiro, que é o tempo de duração em segundos de um determinado evento em uma loja, e informe-o expresso no formato horas:minutos:segundos.\n",
        "\n",
        "Entrada\n",
        "\n",
        "O arquivo de entrada contém um valor inteiro N.\n",
        "\n",
        "Saída\n",
        "\n",
        "Imprima o tempo lido no arquivo de entrada (segundos), convertido para horas:minutos:segundos, conforme exemplo fornecido."
      ],
      "metadata": {
        "id": "YZAclqu1QO8F"
      }
    },
    {
      "cell_type": "code",
      "source": [
        "segundos = int(input())\n",
        "\n",
        "minutos = int(segundos/60)\n",
        "segundos = int(segundos - (minutos * 60))\n",
        "horas = int(segundos/3600)\n",
        "minutos = int(minutos - (horas * 60))\n",
        "\n",
        "print(\"{}:{}:{}\".format(horas, minutos, segundos))"
      ],
      "metadata": {
        "colab": {
          "base_uri": "https://localhost:8080/"
        },
        "id": "r3-7t1t7TR_U",
        "outputId": "a1a561b7-a450-42f4-de89-a23daa81def5"
      },
      "execution_count": 6,
      "outputs": [
        {
          "output_type": "stream",
          "name": "stdout",
          "text": [
            "556\n",
            "0:9:16\n"
          ]
        }
      ]
    },
    {
      "cell_type": "code",
      "execution_count": 5,
      "metadata": {
        "colab": {
          "base_uri": "https://localhost:8080/"
        },
        "id": "4_UOu9-ZQEVZ",
        "outputId": "3158ce4e-04a5-41de-f7bb-e207a2d2437d"
      },
      "outputs": [
        {
          "output_type": "stream",
          "name": "stdout",
          "text": [
            "1\n",
            "0:0:1\n"
          ]
        }
      ],
      "source": [
        "segundos = int(input())\n",
        "\n",
        "minutos = int(segundos/60)\n",
        "segundos = int(segundos - (minutos * 60))\n",
        "horas = int(segundos/3600)\n",
        "minutos = int(minutos - (horas * 60))\n",
        "\n",
        "print(\"{}:{}:{}\".format(horas, minutos, segundos))"
      ]
    }
  ]
}